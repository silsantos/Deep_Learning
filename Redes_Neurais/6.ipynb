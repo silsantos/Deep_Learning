{
  "nbformat": 4,
  "nbformat_minor": 0,
  "metadata": {
    "colab": {
      "name": "Funções de Perda.ipynb",
      "provenance": []
    },
    "kernelspec": {
      "name": "python3",
      "display_name": "Python 3"
    },
    "accelerator": "GPU"
  },
  "cells": [
    {
      "cell_type": "markdown",
      "metadata": {
        "id": "91OmaEPyU934",
        "colab_type": "text"
      },
      "source": [
        "# Funções de Perda"
      ]
    },
    {
      "cell_type": "markdown",
      "metadata": {
        "id": "MELVfk5jU_7_",
        "colab_type": "text"
      },
      "source": [
        "O módulo ```nn``` e suas 1001 utilidades, também fornece as implementações das principais funções de perda. Então vamos primeiro importar o ```torch``` e o módulo ```nn``` <br>"
      ]
    },
    {
      "cell_type": "code",
      "metadata": {
        "id": "HiJE9dQOJnpY",
        "colab_type": "code",
        "colab": {}
      },
      "source": [
        "import torch\n",
        "from torch import nn"
      ],
      "execution_count": 0,
      "outputs": []
    },
    {
      "cell_type": "markdown",
      "metadata": {
        "id": "MwDcFjfubok8",
        "colab_type": "text"
      },
      "source": [
        "Antes de tudo, vamos conferir qual dispositivo de hardware está disponível para uso."
      ]
    },
    {
      "cell_type": "code",
      "metadata": {
        "id": "YFD6bwi7boNM",
        "colab_type": "code",
        "outputId": "5d2ad9d3-d7ea-45c6-d613-6bc18b4bedcd",
        "colab": {
          "base_uri": "https://localhost:8080/",
          "height": 36
        }
      },
      "source": [
        "if torch.cuda.is_available():\n",
        "  device = torch.device('cuda')\n",
        "else:\n",
        "  device = torch.device('cpu')\n",
        "\n",
        "print(device)"
      ],
      "execution_count": 0,
      "outputs": [
        {
          "output_type": "stream",
          "text": [
            "cuda\n"
          ],
          "name": "stdout"
        }
      ]
    },
    {
      "cell_type": "markdown",
      "metadata": {
        "id": "139Z-qFgQUiH",
        "colab_type": "text"
      },
      "source": [
        "Vamos trabalhar com o dataset de classificação de vinhos.\n",
        "\n",
        "https://scikit-learn.org/stable/modules/generated/sklearn.datasets.load_wine.html\n"
      ]
    },
    {
      "cell_type": "code",
      "metadata": {
        "id": "gvJEZr8BQIgG",
        "colab_type": "code",
        "colab": {}
      },
      "source": [
        "from sklearn import datasets\n",
        "\n",
        "wine = datasets.load_wine()\n",
        "data = wine.data\n",
        "target = wine.target\n",
        "\n",
        "print(data.shape, target.shape)\n",
        "print(wine.feature_names, wine.target_names)"
      ],
      "execution_count": 0,
      "outputs": []
    },
    {
      "cell_type": "markdown",
      "metadata": {
        "id": "iRSDsjmqVTB2",
        "colab_type": "text"
      },
      "source": [
        "\n",
        "Vamos instanciar um MLP com uma camada escondida e uma camada de saída. <br>"
      ]
    },
    {
      "cell_type": "code",
      "metadata": {
        "id": "HVXMwEEjVTa3",
        "colab_type": "code",
        "colab": {}
      },
      "source": [
        "class WineClassifier(nn.Module):\n",
        "\n",
        "  def __init__(self, input_size, hidden_size, out_size):\n",
        "    super(WineClassifier, self).__init__()\n",
        "\n",
        "    self.hidden  = nn.Linear(input_size, hidden_size)\n",
        "    self.relu    = nn.ReLU()\n",
        "    self.out     = nn.Linear(hidden_size, out_size)\n",
        "    self.softmax = nn.Softmax()\n",
        "\n",
        "  def forward(self, X):\n",
        "    \n",
        "    feature = self.relu(self.hidden(X))\n",
        "    output  = self.softmax(self.out(feature))\n",
        "\n",
        "    return output\n",
        "\n",
        "input_size  = data.shape[1]\n",
        "hidden_size = 32\n",
        "out_size    = len(wine.target_names)\n",
        "\n",
        "net = WineClassifier(input_size, hidden_size, out_size).to(device) #cast na GPU "
      ],
      "execution_count": 0,
      "outputs": []
    },
    {
      "cell_type": "code",
      "metadata": {
        "id": "ENamhT6UVZrY",
        "colab_type": "code",
        "colab": {}
      },
      "source": [
        "print(net)"
      ],
      "execution_count": 0,
      "outputs": []
    },
    {
      "cell_type": "markdown",
      "metadata": {
        "id": "Wzm3ruHeWhKR",
        "colab_type": "text"
      },
      "source": [
        "## Classificação\n",
        "\n",
        "O primeiro passo é instanciar a função de perda de sua escolha. Trata-se de um problema de classificação com 3 classes, nesse caso a Cross Entropy é a função recomendada, que no PyTorch recebe o nome de *CrossEntropyLoss*: https://pytorch.org/docs/stable/nn.html#crossentropyloss \n",
        "\n",
        "**Assim como a rede, as entradas e os rótulos, a função de perda também deve ser carregada na GPU**\n"
      ]
    },
    {
      "cell_type": "code",
      "metadata": {
        "id": "ZWSHXeO-WbQh",
        "colab_type": "code",
        "colab": {}
      },
      "source": [
        "criterion = nn.CrossEntropyLoss().to(device) # cast na GPU"
      ],
      "execution_count": 0,
      "outputs": []
    },
    {
      "cell_type": "markdown",
      "metadata": {
        "id": "fj9l470ZXMuF",
        "colab_type": "text"
      },
      "source": [
        "Antes de aplicar a função de perda, vamos fazer o cast dos dados para tensores e extrair as predições ```y'``` da rede."
      ]
    },
    {
      "cell_type": "code",
      "metadata": {
        "id": "mgYO7UfjXNB9",
        "colab_type": "code",
        "colab": {}
      },
      "source": [
        "Xtns = torch.from_numpy(data).float()\n",
        "Ytns = torch.from_numpy(target)\n",
        "\n",
        "# Cast na GPU\n",
        "Xtns = Xtns.to(device)\n",
        "Ytns = Ytns.to(device)\n",
        "\n",
        "print(Xtns.dtype, Ytns.dtype)"
      ],
      "execution_count": 0,
      "outputs": []
    },
    {
      "cell_type": "code",
      "metadata": {
        "id": "q6OLd3MPZ42o",
        "colab_type": "code",
        "colab": {}
      },
      "source": [
        "pred = net(Xtns)"
      ],
      "execution_count": 0,
      "outputs": []
    },
    {
      "cell_type": "markdown",
      "metadata": {
        "id": "Fxt1i_ibaTqT",
        "colab_type": "text"
      },
      "source": [
        "Confira as dimensões de ```y``` e ```y'```. Enquanto as predições estão em termos de probabilidades, os rótulos de classificação devem são valores inteiros referentes aos índices das classes."
      ]
    },
    {
      "cell_type": "code",
      "metadata": {
        "id": "3-FZ8Fe5aMZC",
        "colab_type": "code",
        "colab": {}
      },
      "source": [
        "print(pred.shape, Ytns.shape)\n",
        "\n",
        "print(pred[0].data, Ytns[0].data)"
      ],
      "execution_count": 0,
      "outputs": []
    },
    {
      "cell_type": "markdown",
      "metadata": {
        "id": "b6RQRX0ZYXtH",
        "colab_type": "text"
      },
      "source": [
        "As funções de perda implementadas no PyTorch esperam o seguinte padrão de chamada:\n",
        "\n",
        "```python\n",
        "loss = criterion(prediction, target)\n",
        "```\n",
        "\n",
        "Vale lembrar que cada função de perda possui especificidades quanto às dimensões dos seus parâmetros. Para a Cross Entropy:\n",
        "* prediction: ```(N, C)```\n",
        "* target: ```(N,)```"
      ]
    },
    {
      "cell_type": "code",
      "metadata": {
        "id": "uo-xj2_na6fT",
        "colab_type": "code",
        "colab": {}
      },
      "source": [
        "loss = criterion(pred, Ytns)\n",
        "print(loss)"
      ],
      "execution_count": 0,
      "outputs": []
    },
    {
      "cell_type": "markdown",
      "metadata": {
        "id": "qniVROKSc4RW",
        "colab_type": "text"
      },
      "source": [
        "## Regressão\n"
      ]
    },
    {
      "cell_type": "markdown",
      "metadata": {
        "id": "1LyOLrztc2cQ",
        "colab_type": "text"
      },
      "source": [
        "Vamos trabalhar com o dataset de Diabetes, cujo objetivo é prever a progressão da diabetes em um paciente.\n",
        "\n",
        "https://scikit-learn.org/stable/datasets/index.html#diabetes-dataset"
      ]
    },
    {
      "cell_type": "code",
      "metadata": {
        "id": "X_vTwg_fc24l",
        "colab_type": "code",
        "outputId": "4c766018-f632-41fc-de8b-b38d8af8433c",
        "colab": {
          "base_uri": "https://localhost:8080/",
          "height": 111
        }
      },
      "source": [
        "from sklearn import datasets\n",
        "\n",
        "diabetes = datasets.load_diabetes()\n",
        "data = diabetes.data\n",
        "target = diabetes.target\n",
        "\n",
        "print(data.shape, target.shape)\n",
        "\n",
        "print(data[14])\n",
        "print(target[14])"
      ],
      "execution_count": 0,
      "outputs": [
        {
          "output_type": "stream",
          "text": [
            "(442, 10) (442,)\n",
            "[ 4.53409833e-02 -4.46416365e-02 -2.56065715e-02 -1.25563519e-02\n",
            "  1.76943802e-02 -6.12835791e-05  8.17748397e-02 -3.94933829e-02\n",
            " -3.19914449e-02 -7.56356220e-02]\n",
            "118.0\n"
          ],
          "name": "stdout"
        }
      ]
    },
    {
      "cell_type": "markdown",
      "metadata": {
        "id": "dC3OaC5VdXng",
        "colab_type": "text"
      },
      "source": [
        "Implementando o MLP"
      ]
    },
    {
      "cell_type": "code",
      "metadata": {
        "id": "rGKUNv31dXC8",
        "colab_type": "code",
        "colab": {}
      },
      "source": [
        "class WineClassifier(nn.Module):\n",
        "\n",
        "  def __init__(self, input_size, hidden_size, out_size):\n",
        "    super(WineClassifier, self).__init__()\n",
        "\n",
        "    self.hidden  = nn.Linear(input_size, hidden_size)\n",
        "    self.relu    = nn.ReLU()\n",
        "    self.out     = nn.Linear(hidden_size, out_size)\n",
        "    self.softmax = nn.Softmax(dim=-1)\n",
        "\n",
        "  def forward(self, X):\n",
        "    \n",
        "    feature = self.relu(self.hidden(X))\n",
        "    output  = self.softmax(self.out(feature))\n",
        "\n",
        "    return output\n",
        "\n",
        "input_size  = data.shape[1]\n",
        "hidden_size = 32\n",
        "out_size    = 1  # Progressão da diabetes\n",
        "\n",
        "net = WineClassifier(input_size, hidden_size, out_size).to(device) #cast na GPU "
      ],
      "execution_count": 0,
      "outputs": []
    },
    {
      "cell_type": "markdown",
      "metadata": {
        "id": "PRrZkE19c15k",
        "colab_type": "text"
      },
      "source": [
        "Para solucionar problemas de regressão, as funções de perda correspondentes esperam que ambos o rótulo e a predição tenham **a mesma dimensionalidade**. Não se trata mais de um problema categórico.\n",
        "\n",
        "Portanto, vamos simular um problema de regressão e aplicar a *MSELoss*<br>\n",
        "Documentação: https://pytorch.org/docs/stable/nn.html#mseloss"
      ]
    },
    {
      "cell_type": "code",
      "metadata": {
        "id": "Jzu7ZxbdcRsu",
        "colab_type": "code",
        "outputId": "c79913b9-919b-43c8-ce0d-5ca73d5de9be",
        "colab": {
          "base_uri": "https://localhost:8080/",
          "height": 36
        }
      },
      "source": [
        "criterion = nn.MSELoss().to(device)\n",
        "\n",
        "# Cast na GPU\n",
        "Xtns = torch.from_numpy(data).float().to(device)\n",
        "Ytns = torch.from_numpy(target).float().to(device)\n",
        "\n",
        "print(Xtns.shape, Ytns.shape)"
      ],
      "execution_count": 0,
      "outputs": [
        {
          "output_type": "stream",
          "text": [
            "torch.Size([442, 10]) torch.Size([442])\n"
          ],
          "name": "stdout"
        }
      ]
    },
    {
      "cell_type": "code",
      "metadata": {
        "id": "ltlmEeIDeAzC",
        "colab_type": "code",
        "outputId": "50a6f7bf-94c7-4095-e79c-b1584502c38b",
        "colab": {
          "base_uri": "https://localhost:8080/",
          "height": 36
        }
      },
      "source": [
        "pred = net(Xtns)\n",
        "\n",
        "loss = criterion(pred.squeeze(), Ytns)\n",
        "print(loss.data)"
      ],
      "execution_count": 0,
      "outputs": [
        {
          "output_type": "stream",
          "text": [
            "tensor(28771.2148, device='cuda:0')\n"
          ],
          "name": "stdout"
        }
      ]
    },
    {
      "cell_type": "code",
      "metadata": {
        "id": "qxc79Z9-QTuY",
        "colab_type": "code",
        "outputId": "75d1d4b3-6c72-49bc-fc7c-ddd506aa4e8d",
        "colab": {
          "base_uri": "https://localhost:8080/",
          "height": 36
        }
      },
      "source": [
        "criterion = nn.L1Loss().to(device)\n",
        "\n",
        "pred = net(Xtns)\n",
        "\n",
        "loss = criterion(pred.squeeze(), Ytns)\n",
        "print(loss.data)"
      ],
      "execution_count": 0,
      "outputs": [
        {
          "output_type": "stream",
          "text": [
            "tensor(151.1335, device='cuda:0')\n"
          ],
          "name": "stdout"
        }
      ]
    },
    {
      "cell_type": "markdown",
      "metadata": {
        "id": "g92P_wBNgyb-",
        "colab_type": "text"
      },
      "source": [
        "## Documentação\n",
        "Veja a documentação para consultar a lista de todas as funções de perda implementadas no PyTorch: <br>\n",
        "https://pytorch.org/docs/stable/nn.html#loss-functions"
      ]
    }
  ]
}